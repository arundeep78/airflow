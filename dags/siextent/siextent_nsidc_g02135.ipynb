{
 "cells": [
  {
   "cell_type": "code",
   "execution_count": 19,
   "metadata": {},
   "outputs": [],
   "source": [
    "import datetime\n",
    "import pandas as pd\n",
    "import numpy as np\n",
    "import json\n",
    "from sqlalchemy import text\n",
    "import io\n",
    "import sys\n",
    "import requests\n",
    "\n",
    "from airflow.providers.postgres.hooks.postgres import PostgresHook\n"
   ]
  },
  {
   "cell_type": "code",
   "execution_count": 20,
   "metadata": {},
   "outputs": [],
   "source": [
    "topic = \"siextent\"\n",
    "dataset = \"nsidc_g02135\"\n",
    "tbl_name = f\"t_{topic}_{dataset}\"\n",
    "\n",
    "db_conn = PostgresHook(postgres_conn_id = \"arcticdata_pgsql\")\n",
    "\n",
    "# Download latest data from NSIDC\n",
    "\n",
    "SOURCE_URL = \"http://masie_web.apps.nsidc.org/pub/DATASETS/NOAA/G02135/north/daily/data/N_seaice_extent_daily_v3.0.csv\"\n"
   ]
  },
  {
   "cell_type": "code",
   "execution_count": 21,
   "metadata": {},
   "outputs": [
    {
     "name": "stdout",
     "output_type": "stream",
     "text": [
      "[\u001b[34m2022-04-11 21:15:09,747\u001b[0m] {\u001b[34mbase.py:\u001b[0m79} INFO\u001b[0m - Using connection to: id: arcticdata_pgsql. Host: postgres, Port: 5432, Schema: arcticdata, Login: airflow, Password: airflow, extra: {}\u001b[0m\n",
      "14214\n",
      "[\u001b[34m2022-04-11 21:15:09,762\u001b[0m] {\u001b[34mbase.py:\u001b[0m79} INFO\u001b[0m - Using connection to: id: arcticdata_pgsql. Host: postgres, Port: 5432, Schema: arcticdata, Login: airflow, Password: airflow, extra: {}\u001b[0m\n",
      "2022-04-04 00:00:00\n"
     ]
    }
   ],
   "source": [
    "num_records_before= db_conn.get_first(sql=f\"select count(*) from {tbl_name}\")[0]\n",
    "print(num_records_before)\n",
    "\n",
    "max_date= db_conn.get_first(f\"SELECT MAX(datetime_date) FROM {tbl_name}\")[0]\n",
    "print(max_date)\n"
   ]
  },
  {
   "cell_type": "code",
   "execution_count": 22,
   "metadata": {},
   "outputs": [
    {
     "name": "stdout",
     "output_type": "stream",
     "text": [
      "[\u001b[34m2022-04-11 21:15:36,202\u001b[0m] {\u001b[34mbase.py:\u001b[0m79} INFO\u001b[0m - Using connection to: id: arcticdata_pgsql. Host: postgres, Port: 5432, Schema: arcticdata, Login: airflow, Password: airflow, extra: {}\u001b[0m\n",
      "[\u001b[34m2022-04-11 21:15:36,251\u001b[0m] {\u001b[34mbase.py:\u001b[0m79} INFO\u001b[0m - Using connection to: id: arcticdata_pgsql. Host: postgres, Port: 5432, Schema: arcticdata, Login: airflow, Password: airflow, extra: {}\u001b[0m\n",
      "14220\n"
     ]
    }
   ],
   "source": [
    "r= requests.get(SOURCE_URL)\n",
    "\n",
    "\n",
    "if r.ok:\n",
    "\n",
    "  df = pd.read_csv(io.StringIO(r.text), skiprows=[1], skipinitialspace=True)\n",
    "\n",
    "\n",
    "  df = df.rename(columns= lambda x: x.lower().strip().replace(\" \", \"_\"),)\n",
    "\n",
    "  df[\"datetime_date\"] = pd.to_datetime(df[[\"year\",\"month\",\"day\"]])\n",
    "      \n",
    "  del df[\"year\"]\n",
    "  del df[\"month\"]\n",
    "  del df[\"day\"]\n",
    "\n",
    "  df = df[df[\"datetime_date\"]>max_date]\n",
    "  new_records = len(df)\n",
    "  df.to_sql(tbl_name,con = db_conn.get_sqlalchemy_engine(), if_exists=\"append\",index=False)\n",
    "    \n",
    "  num_records_after= db_conn.get_first(sql=f\"select count(*) from {tbl_name}\")[0]\n",
    "  print(num_records_after)\n",
    "\n",
    "  status = \"OK\"\n",
    "else:\n",
    "  new_records = 0\n",
    "  num_records_after = num_records_before\n",
    "  status = \"NOK\""
   ]
  },
  {
   "cell_type": "code",
   "execution_count": 8,
   "metadata": {},
   "outputs": [
    {
     "name": "stdout",
     "output_type": "stream",
     "text": [
      "[\u001b[34m2022-04-11 15:30:12,309\u001b[0m] {\u001b[34mbase.py:\u001b[0m79} INFO\u001b[0m - Using connection to: id: arcticdata_pgsql. Host: postgres, Port: 5432, Schema: arcticdata, Login: airflow, Password: airflow, extra: {}\u001b[0m\n"
     ]
    }
   ],
   "source": [
    "df.to_sql(name=tbl_name,con=db_conn.get_sqlalchemy_engine(),index=False, if_exists=\"append\")"
   ]
  },
  {
   "cell_type": "code",
   "execution_count": null,
   "metadata": {},
   "outputs": [],
   "source": []
  }
 ],
 "metadata": {
  "interpreter": {
   "hash": "949777d72b0d2535278d3dc13498b2535136f6dfe0678499012e853ee9abcab1"
  },
  "kernelspec": {
   "display_name": "Python 3.7.13 64-bit",
   "language": "python",
   "name": "python3"
  },
  "language_info": {
   "codemirror_mode": {
    "name": "ipython",
    "version": 3
   },
   "file_extension": ".py",
   "mimetype": "text/x-python",
   "name": "python",
   "nbconvert_exporter": "python",
   "pygments_lexer": "ipython3",
   "version": "3.7.13"
  },
  "orig_nbformat": 4
 },
 "nbformat": 4,
 "nbformat_minor": 2
}
